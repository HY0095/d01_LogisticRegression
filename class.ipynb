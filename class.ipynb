{
 "cells": [
  {
   "cell_type": "code",
   "execution_count": 1,
   "metadata": {
    "collapsed": false
   },
   "outputs": [],
   "source": [
    "#coding:-*-utf-8 -*-\n",
    "import sys\n",
    "reload(sys)\n",
    "sys.setdefaultencoding(\"utf-8\")\n",
    "\n",
    "class GrandPa:\n",
    "    def __init__(self):\n",
    "        print(\"I\\m GrandPa\")\n",
    "\n",
    "class Father(GrandPa):\n",
    "    def __init__(self):\n",
    "        print(\"I\\m Father!\")\n",
    "\n",
    "class Son(Father):\n",
    "    \"\"\"A Simple example class\"\"\"\n",
    "    i = 12345\n",
    "    def __init__(self):\n",
    "        print(\"This is a Construct Function, son\")\n",
    "    def SayHello(self):\n",
    "        return 'hello word'\n",
    "\n",
    "if __name__ == '__main__':\n",
    "    son = Son()\n",
    "    # 类型帮助信息\n",
    "    print(\"类型帮助信息:\", Son.__doc__)\n",
    "    #类型名称\n",
    "    print(\"类型名称:\", Son.__name__)\n",
    "    #类型所继承的基类\n",
    "    print(\"类型所继承的基类:\", Son.__bases__)\n",
    "    #类型字典\n",
    "    print(\"类型字典:\", Son.__dict__)\n",
    "    #类型所在模块\n",
    "    print(\"类型所在模块:\", Son.__module__)\n",
    "    #实例类型\n",
    "    print(\"实例类型:\", Son().__class__)"
   ]
  },
  {
   "cell_type": "code",
   "execution_count": null,
   "metadata": {
    "collapsed": true
   },
   "outputs": [],
   "source": []
  }
 ],
 "metadata": {
  "kernelspec": {
   "display_name": "Python 2",
   "language": "python",
   "name": "python2"
  },
  "language_info": {
   "codemirror_mode": {
    "name": "ipython",
    "version": 2
   },
   "file_extension": ".py",
   "mimetype": "text/x-python",
   "name": "python",
   "nbconvert_exporter": "python",
   "pygments_lexer": "ipython2",
   "version": "2.7.9"
  }
 },
 "nbformat": 4,
 "nbformat_minor": 0
}
