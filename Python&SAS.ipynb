{
 "cells": [
  {
   "cell_type": "markdown",
   "metadata": {},
   "source": [
    "#  Logistic Regression Test  StatsModels VS SAS "
   ]
  },
  {
   "cell_type": "code",
   "execution_count": 1,
   "metadata": {
    "collapsed": false
   },
   "outputs": [],
   "source": [
    "from __future__ import print_function\n",
    "import numpy as np\n",
    "import statsmodels.api as sm\n",
    "import scipy.stats as stats\n",
    "import pandas as pd\n",
    "import matplotlib.pyplot as plt\n"
   ]
  },
  {
   "cell_type": "code",
   "execution_count": 2,
   "metadata": {
    "collapsed": false
   },
   "outputs": [],
   "source": [
    "data = pd.read_csv('/home/dzn/Project/d05_scorecard/d01_LogisticRegression/data/x.csv', sep = ',')\n"
   ]
  },
  {
   "cell_type": "code",
   "execution_count": 3,
   "metadata": {
    "collapsed": false
   },
   "outputs": [],
   "source": [
    "df = sm.add_constant(data, prepend=True)\n"
   ]
  },
  {
   "cell_type": "code",
   "execution_count": 4,
   "metadata": {
    "collapsed": false
   },
   "outputs": [
    {
     "data": {
      "text/html": [
       "<div>\n",
       "<table border=\"1\" class=\"dataframe\">\n",
       "  <thead>\n",
       "    <tr style=\"text-align: right;\">\n",
       "      <th></th>\n",
       "      <th>const</th>\n",
       "      <th>cell</th>\n",
       "      <th>smear</th>\n",
       "      <th>infil</th>\n",
       "      <th>li</th>\n",
       "      <th>blast</th>\n",
       "      <th>temp</th>\n",
       "      <th>y</th>\n",
       "    </tr>\n",
       "  </thead>\n",
       "  <tbody>\n",
       "    <tr>\n",
       "      <th>0</th>\n",
       "      <td>1</td>\n",
       "      <td>0.8</td>\n",
       "      <td>0.83</td>\n",
       "      <td>0.66</td>\n",
       "      <td>1.9</td>\n",
       "      <td>1.100</td>\n",
       "      <td>0.996</td>\n",
       "      <td>1</td>\n",
       "    </tr>\n",
       "    <tr>\n",
       "      <th>1</th>\n",
       "      <td>1</td>\n",
       "      <td>0.9</td>\n",
       "      <td>0.36</td>\n",
       "      <td>0.32</td>\n",
       "      <td>1.4</td>\n",
       "      <td>0.740</td>\n",
       "      <td>0.992</td>\n",
       "      <td>1</td>\n",
       "    </tr>\n",
       "    <tr>\n",
       "      <th>2</th>\n",
       "      <td>1</td>\n",
       "      <td>0.8</td>\n",
       "      <td>0.88</td>\n",
       "      <td>0.70</td>\n",
       "      <td>0.8</td>\n",
       "      <td>0.176</td>\n",
       "      <td>0.982</td>\n",
       "      <td>0</td>\n",
       "    </tr>\n",
       "    <tr>\n",
       "      <th>3</th>\n",
       "      <td>1</td>\n",
       "      <td>1.0</td>\n",
       "      <td>0.87</td>\n",
       "      <td>0.87</td>\n",
       "      <td>0.7</td>\n",
       "      <td>1.053</td>\n",
       "      <td>0.986</td>\n",
       "      <td>0</td>\n",
       "    </tr>\n",
       "    <tr>\n",
       "      <th>4</th>\n",
       "      <td>1</td>\n",
       "      <td>0.9</td>\n",
       "      <td>0.75</td>\n",
       "      <td>0.68</td>\n",
       "      <td>1.3</td>\n",
       "      <td>0.519</td>\n",
       "      <td>0.980</td>\n",
       "      <td>1</td>\n",
       "    </tr>\n",
       "  </tbody>\n",
       "</table>\n",
       "</div>"
      ],
      "text/plain": [
       "   const  cell  smear  infil   li  blast   temp  y\n",
       "0      1   0.8   0.83   0.66  1.9  1.100  0.996  1\n",
       "1      1   0.9   0.36   0.32  1.4  0.740  0.992  1\n",
       "2      1   0.8   0.88   0.70  0.8  0.176  0.982  0\n",
       "3      1   1.0   0.87   0.87  0.7  1.053  0.986  0\n",
       "4      1   0.9   0.75   0.68  1.3  0.519  0.980  1"
      ]
     },
     "execution_count": 4,
     "metadata": {},
     "output_type": "execute_result"
    }
   ],
   "source": [
    "df.head()\n"
   ]
  },
  {
   "cell_type": "code",
   "execution_count": 56,
   "metadata": {
    "collapsed": false
   },
   "outputs": [],
   "source": [
    "xcol = ['const', 'cell']\n",
    "aa = np.vstack((df.const, df.cell))"
   ]
  },
  {
   "cell_type": "code",
   "execution_count": 66,
   "metadata": {
    "collapsed": false
   },
   "outputs": [
    {
     "data": {
      "text/plain": [
       "array([[1, 2, 3],\n",
       "       [2, 3, 4]])"
      ]
     },
     "execution_count": 66,
     "metadata": {},
     "output_type": "execute_result"
    }
   ],
   "source": [
    "a = np.array([1, 2, 3])\n",
    "b = np.array([2, 3, 4])\n",
    "c = np.vstack((a,b))\n",
    "c"
   ]
  },
  {
   "cell_type": "code",
   "execution_count": 67,
   "metadata": {
    "collapsed": false
   },
   "outputs": [
    {
     "data": {
      "text/plain": [
       "array([[1, 2, 3],\n",
       "       [2, 3, 4],\n",
       "       [1, 2, 3]])"
      ]
     },
     "execution_count": 67,
     "metadata": {},
     "output_type": "execute_result"
    }
   ],
   "source": [
    "np.vstack((c,a))"
   ]
  },
  {
   "cell_type": "code",
   "execution_count": null,
   "metadata": {
    "collapsed": false
   },
   "outputs": [],
   "source": [
    "bb = pd.DataFrame(aa.T, columns = xcol)\n"
   ]
  },
  {
   "cell_type": "code",
   "execution_count": 48,
   "metadata": {
    "collapsed": false
   },
   "outputs": [],
   "source": []
  },
  {
   "cell_type": "code",
   "execution_count": 46,
   "metadata": {
    "collapsed": false
   },
   "outputs": [
    {
     "data": {
      "text/plain": [
       "3"
      ]
     },
     "execution_count": 46,
     "metadata": {},
     "output_type": "execute_result"
    }
   ],
   "source": [
    "aa.index(max(aa))"
   ]
  },
  {
   "cell_type": "code",
   "execution_count": 22,
   "metadata": {
    "collapsed": false
   },
   "outputs": [
    {
     "data": {
      "text/plain": [
       "pandas.core.frame.DataFrame"
      ]
     },
     "execution_count": 22,
     "metadata": {},
     "output_type": "execute_result"
    }
   ],
   "source": [
    "type(df.iloc[:,0:7])"
   ]
  },
  {
   "cell_type": "code",
   "execution_count": 39,
   "metadata": {
    "collapsed": false
   },
   "outputs": [
    {
     "data": {
      "text/plain": [
       "0     1\n",
       "1     1\n",
       "2     0\n",
       "3     0\n",
       "4     1\n",
       "5     0\n",
       "6     1\n",
       "7     0\n",
       "8     0\n",
       "9     0\n",
       "10    0\n",
       "11    0\n",
       "12    0\n",
       "13    0\n",
       "14    0\n",
       "15    1\n",
       "16    0\n",
       "17    0\n",
       "18    0\n",
       "19    1\n",
       "20    0\n",
       "21    0\n",
       "22    1\n",
       "23    0\n",
       "24    1\n",
       "25    1\n",
       "26    0\n",
       "Name: y, dtype: int64"
      ]
     },
     "execution_count": 39,
     "metadata": {},
     "output_type": "execute_result"
    }
   ],
   "source": [
    "df.y"
   ]
  },
  {
   "cell_type": "code",
   "execution_count": 33,
   "metadata": {
    "collapsed": false
   },
   "outputs": [],
   "source": [
    "logit_mod = sm.Logit(df.y, bb)\n"
   ]
  },
  {
   "cell_type": "code",
   "execution_count": 6,
   "metadata": {
    "collapsed": true
   },
   "outputs": [],
   "source": [
    "logit_mod = sm.Logit(df.y, df.const)\n"
   ]
  },
  {
   "cell_type": "code",
   "execution_count": 7,
   "metadata": {
    "collapsed": false
   },
   "outputs": [
    {
     "name": "stdout",
     "output_type": "stream",
     "text": [
      "Optimization terminated successfully.\n",
      "         Current function value: 0.636514\n",
      "         Iterations 4\n"
     ]
    }
   ],
   "source": [
    "logit_res = logit_mod.fit(disp=1)\n"
   ]
  },
  {
   "cell_type": "code",
   "execution_count": 9,
   "metadata": {
    "collapsed": false
   },
   "outputs": [
    {
     "name": "stdout",
     "output_type": "stream",
     "text": [
      "                           Logit Regression Results                           \n",
      "==============================================================================\n",
      "Dep. Variable:                      y   No. Observations:                   27\n",
      "Model:                          Logit   Df Residuals:                       26\n",
      "Method:                           MLE   Df Model:                            0\n",
      "Date:                Mon, 18 Jan 2016   Pseudo R-squ.:                   0.000\n",
      "Time:                        11:33:11   Log-Likelihood:                -17.186\n",
      "converged:                       True   LL-Null:                       -17.186\n",
      "                                        LLR p-value:                       nan\n",
      "==============================================================================\n",
      "                 coef    std err          z      P>|z|      [95.0% Conf. Int.]\n",
      "------------------------------------------------------------------------------\n",
      "const         -0.6931      0.408     -1.698      0.090        -1.493     0.107\n",
      "==============================================================================\n"
     ]
    }
   ],
   "source": [
    "print(logit_res.summary())\n"
   ]
  },
  {
   "cell_type": "code",
   "execution_count": 31,
   "metadata": {
    "collapsed": false
   },
   "outputs": [
    {
     "data": {
      "text/plain": [
       "const   -0.693147\n",
       "dtype: float64"
      ]
     },
     "execution_count": 31,
     "metadata": {},
     "output_type": "execute_result"
    }
   ],
   "source": [
    "logit_res.params\n"
   ]
  },
  {
   "cell_type": "code",
   "execution_count": 11,
   "metadata": {
    "collapsed": false
   },
   "outputs": [
    {
     "data": {
      "text/plain": [
       "36.37176508791989"
      ]
     },
     "execution_count": 11,
     "metadata": {},
     "output_type": "execute_result"
    }
   ],
   "source": [
    "logit_res.aic\n"
   ]
  },
  {
   "cell_type": "code",
   "execution_count": 12,
   "metadata": {
    "collapsed": false
   },
   "outputs": [
    {
     "data": {
      "text/plain": [
       "-17.185882543959945"
      ]
     },
     "execution_count": 12,
     "metadata": {},
     "output_type": "execute_result"
    }
   ],
   "source": [
    "logit_res.llf\n"
   ]
  },
  {
   "cell_type": "code",
   "execution_count": 13,
   "metadata": {
    "collapsed": false
   },
   "outputs": [
    {
     "data": {
      "text/plain": [
       "nan"
      ]
     },
     "execution_count": 13,
     "metadata": {},
     "output_type": "execute_result"
    }
   ],
   "source": [
    "logit_res.llr_pvalue\n"
   ]
  },
  {
   "cell_type": "code",
   "execution_count": 14,
   "metadata": {
    "collapsed": false
   },
   "outputs": [
    {
     "data": {
      "text/plain": [
       "-0.0"
      ]
     },
     "execution_count": 14,
     "metadata": {},
     "output_type": "execute_result"
    }
   ],
   "source": [
    "logit_res.llr\n"
   ]
  },
  {
   "cell_type": "code",
   "execution_count": 30,
   "metadata": {
    "collapsed": false
   },
   "outputs": [
    {
     "data": {
      "text/plain": [
       "const    0.408248\n",
       "dtype: float64"
      ]
     },
     "execution_count": 30,
     "metadata": {},
     "output_type": "execute_result"
    }
   ],
   "source": [
    "logit_res.bse\n"
   ]
  },
  {
   "cell_type": "code",
   "execution_count": 16,
   "metadata": {
    "collapsed": false
   },
   "outputs": [
    {
     "data": {
      "text/plain": [
       "26.0"
      ]
     },
     "execution_count": 16,
     "metadata": {},
     "output_type": "execute_result"
    }
   ],
   "source": [
    "logit_res.df_resid\n"
   ]
  },
  {
   "cell_type": "code",
   "execution_count": 28,
   "metadata": {
    "collapsed": false
   },
   "outputs": [
    {
     "data": {
      "text/plain": [
       "-0.0"
      ]
     },
     "execution_count": 28,
     "metadata": {},
     "output_type": "execute_result"
    }
   ],
   "source": [
    "logit_res.llr\n"
   ]
  },
  {
   "cell_type": "code",
   "execution_count": 18,
   "metadata": {
    "collapsed": false
   },
   "outputs": [
    {
     "data": {
      "text/plain": [
       "0.0"
      ]
     },
     "execution_count": 18,
     "metadata": {},
     "output_type": "execute_result"
    }
   ],
   "source": [
    "logit_res.df_model\n"
   ]
  },
  {
   "cell_type": "code",
   "execution_count": 20,
   "metadata": {
    "collapsed": false
   },
   "outputs": [],
   "source": [
    "WaldChi_Square = (logit_res.params[0]/logit_res.bse[0])**2\n"
   ]
  },
  {
   "cell_type": "code",
   "execution_count": 33,
   "metadata": {
    "collapsed": false
   },
   "outputs": [
    {
     "data": {
      "text/plain": [
       "2.8827180835092121"
      ]
     },
     "execution_count": 33,
     "metadata": {},
     "output_type": "execute_result"
    }
   ],
   "source": [
    "np.abs(-WaldChi_Square)\n"
   ]
  },
  {
   "cell_type": "code",
   "execution_count": 38,
   "metadata": {
    "collapsed": false
   },
   "outputs": [
    {
     "data": {
      "text/plain": [
       "0.089534771877787134"
      ]
     },
     "execution_count": 38,
     "metadata": {},
     "output_type": "execute_result"
    }
   ],
   "source": [
    "2*stats.norm.cdf(-np.abs((logit_res.params[0]/logit_res.bse[0])))\n"
   ]
  },
  {
   "cell_type": "code",
   "execution_count": 3,
   "metadata": {
    "collapsed": false
   },
   "outputs": [
    {
     "data": {
      "text/plain": [
       "array([ 1.,  1.,  1.])"
      ]
     },
     "execution_count": 3,
     "metadata": {},
     "output_type": "execute_result"
    }
   ],
   "source": [
    "np.ones(3)"
   ]
  },
  {
   "cell_type": "code",
   "execution_count": 4,
   "metadata": {
    "collapsed": false
   },
   "outputs": [
    {
     "data": {
      "text/plain": [
       "array([ 0.,  0.,  0.])"
      ]
     },
     "execution_count": 4,
     "metadata": {},
     "output_type": "execute_result"
    }
   ],
   "source": [
    "np.zeros(3)"
   ]
  },
  {
   "cell_type": "code",
   "execution_count": 40,
   "metadata": {
    "collapsed": true
   },
   "outputs": [],
   "source": [
    " xenter= ['const']"
   ]
  },
  {
   "cell_type": "code",
   "execution_count": 50,
   "metadata": {
    "collapsed": false
   },
   "outputs": [],
   "source": [
    "aa = xenter + ['123']\n"
   ]
  },
  {
   "cell_type": "code",
   "execution_count": 53,
   "metadata": {
    "collapsed": true
   },
   "outputs": [],
   "source": [
    "del aa[0] "
   ]
  },
  {
   "cell_type": "code",
   "execution_count": 54,
   "metadata": {
    "collapsed": false
   },
   "outputs": [
    {
     "data": {
      "text/plain": [
       "['123']"
      ]
     },
     "execution_count": 54,
     "metadata": {},
     "output_type": "execute_result"
    }
   ],
   "source": [
    "aa"
   ]
  },
  {
   "cell_type": "code",
   "execution_count": 5,
   "metadata": {
    "collapsed": false
   },
   "outputs": [],
   "source": [
    "import logitregression as logit\n",
    "import pandas as pd"
   ]
  },
  {
   "cell_type": "code",
   "execution_count": 6,
   "metadata": {
    "collapsed": false
   },
   "outputs": [
    {
     "name": "stdout",
     "output_type": "stream",
     "text": [
      "**** The LogitReg Process ****\n",
      "\n",
      "** Step 0. Intercept entered:\n",
      "\n",
      "                           Logit Regression Results                           \n",
      "==============================================================================\n",
      "Dep. Variable:                      y   No. Observations:                   27\n",
      "Model:                          Logit   Df Residuals:                       26\n",
      "Method:                           MLE   Df Model:                            0\n",
      "Date:                Wed, 20 Jan 2016   Pseudo R-squ.:                   0.000\n",
      "Time:                        15:27:47   Log-Likelihood:                -17.186\n",
      "converged:                       True   LL-Null:                       -17.186\n",
      "                                        LLR p-value:                       nan\n",
      "==============================================================================\n",
      "                 coef    std err          z      P>|z|      [95.0% Conf. Int.]\n",
      "------------------------------------------------------------------------------\n",
      "const         -0.6931      0.408     -1.698      0.090        -1.493     0.107\n",
      "==============================================================================\n",
      " \n",
      "                          Model Fit Statistics \n",
      "==============================================================================\n",
      "AIC                   36.3717650879           BIC           37.6676019539    \n",
      "-2Logl                34.3717650879           SC            40.9634388199    \n",
      "==============================================================================\n",
      "   \n",
      "              Analysis of Variables Eligible for Entry  \n",
      "==============================================================================\n",
      "\tvariable\t \tWald Chi-square\t \tPr>ChiSq\t\n",
      "    \t cell\t             \t1.88933755878\t     \t0.169276657378\t\n",
      "    \tsmear\t             \t1.07447985972\t     \t0.299935739546\t\n",
      "    \tinfil\t             \t1.88174858781\t     \t0.17013554236\t\n",
      "    \t   li\t             \t7.93109621143\t     \t0.00485923489668\t\n",
      "    \tblast\t             \t3.52580924286\t     \t0.060420323175\t\n",
      "    \t temp\t             \t0.659090909092\t     \t0.416881070097\t\n",
      " \n",
      "** step 1: li entered:\n",
      "\n",
      "                           Logit Regression Results                           \n",
      "==============================================================================\n",
      "Dep. Variable:                      y   No. Observations:                   27\n",
      "Model:                          Logit   Df Residuals:                       25\n",
      "Method:                           MLE   Df Model:                            1\n",
      "Date:                Wed, 20 Jan 2016   Pseudo R-squ.:                  0.2414\n",
      "Time:                        15:27:48   Log-Likelihood:                -13.036\n",
      "converged:                       True   LL-Null:                       -17.186\n",
      "                                        LLR p-value:                  0.003967\n",
      "==============================================================================\n",
      "                 coef    std err          z      P>|z|      [95.0% Conf. Int.]\n",
      "------------------------------------------------------------------------------\n",
      "const         -3.7771      1.379     -2.740      0.006        -6.479    -1.075\n",
      "li             2.8973      1.187      2.441      0.015         0.571     5.223\n",
      "==============================================================================\n",
      "                          Model Fit Statistics \n",
      "==============================================================================\n",
      "AIC                   30.0729645051           BIC           32.6646382371    \n",
      "-2Logl                26.0729645051           SC            32.6646382371    \n",
      "==============================================================================\n",
      "              Analysis of Variables Eligible for Remove  \n",
      "==============================================================================\n",
      "\tvariable\t \tWald Chi-square\t \tPr>ChiSq\t\n",
      "    \t   li\t             \t5.95942245748\t     \t0.0146388356821\t\n",
      " \n",
      "         No (additional) Variables met the 0.2 significance level for remove into the model\n",
      "   \n",
      "              Analysis of Variables Eligible for Entry  \n",
      "==============================================================================\n",
      "\tvariable\t \tWald Chi-square\t \tPr>ChiSq\t\n",
      "    \t cell\t             \t1.11825772504\t     \t0.290293920308\t\n",
      "    \tsmear\t             \t0.136910784466\t     \t0.7113716319\t\n",
      "    \tinfil\t             \t0.571492437321\t     \t0.449666470321\t\n",
      "    \tblast\t             \t0.0932043773376\t     \t0.760142306495\t\n",
      "    \t temp\t             \t1.25905986906\t     \t0.26182911958\t\n",
      " \n",
      "** step 2: temp entered:\n",
      "\n",
      "                           Logit Regression Results                           \n",
      "==============================================================================\n",
      "Dep. Variable:                      y   No. Observations:                   27\n",
      "Model:                          Logit   Df Residuals:                       24\n",
      "Method:                           MLE   Df Model:                            2\n",
      "Date:                Wed, 20 Jan 2016   Pseudo R-squ.:                  0.2829\n",
      "Time:                        15:27:48   Log-Likelihood:                -12.324\n",
      "converged:                       True   LL-Null:                       -17.186\n",
      "                                        LLR p-value:                  0.007735\n",
      "==============================================================================\n",
      "                 coef    std err          z      P>|z|      [95.0% Conf. Int.]\n",
      "------------------------------------------------------------------------------\n",
      "const         47.8559     46.442      1.030      0.303       -43.168   138.880\n",
      "li             3.3020      1.359      2.429      0.015         0.638     5.966\n",
      "temp         -52.4331     47.493     -1.104      0.270      -145.519    40.652\n",
      "==============================================================================\n",
      "                          Model Fit Statistics \n",
      "==============================================================================\n",
      "AIC                   30.6478222686           BIC           34.5353328666    \n",
      "-2Logl                24.6478222686           SC            31.2394960006    \n",
      "==============================================================================\n",
      "              Analysis of Variables Eligible for Remove  \n",
      "==============================================================================\n",
      "\tvariable\t \tWald Chi-square\t \tPr>ChiSq\t\n",
      "    \t   li\t             \t5.90047377967\t     \t0.0151368125598\t\n",
      "    \t temp\t             \t1.21883355547\t     \t0.269589688734\t\n",
      " \n",
      "step 3: temp removed:\n",
      "\n",
      "                          Model Fit Statistics \n",
      "==============================================================================\n",
      "AIC                   30.0729645051           BIC           32.6646382371    \n",
      "-2Logl                26.0729645051           SC            32.6646382371    \n",
      "==============================================================================\n",
      "              Analysis of Variables Eligible for Remove  \n",
      "==============================================================================\n",
      "\tvariable\t \tWald Chi-square\t \tPr>ChiSq\t\n",
      "    \t   li\t             \t5.95942245748\t     \t0.0146388356821\t\n",
      " \n",
      "Model building terminates because the last effect entered is removed by the Wald statistic criterion\n"
     ]
    },
    {
     "data": {
      "text/plain": [
       "{'const': -3.7771401577554227, 'li': 2.8972638566733577}"
      ]
     },
     "execution_count": 6,
     "metadata": {},
     "output_type": "execute_result"
    }
   ],
   "source": [
    "data  = pd.read_csv('/home/dzn/Project/d05_scorecard/d01_LogisticRegression/data/x.csv', sep = ',')\n",
    "role  = [1,1,1,1,1,1,2]\n",
    "a = logit.StepwiseModel(data, role, slentry=0.3, slstay=0.2)\n",
    "a.beta()"
   ]
  },
  {
   "cell_type": "code",
   "execution_count": null,
   "metadata": {
    "collapsed": true
   },
   "outputs": [],
   "source": []
  }
 ],
 "metadata": {
  "kernelspec": {
   "display_name": "Python 2",
   "language": "python",
   "name": "python2"
  },
  "language_info": {
   "codemirror_mode": {
    "name": "ipython",
    "version": 2
   },
   "file_extension": ".py",
   "mimetype": "text/x-python",
   "name": "python",
   "nbconvert_exporter": "python",
   "pygments_lexer": "ipython2",
   "version": "2.7.9"
  }
 },
 "nbformat": 4,
 "nbformat_minor": 0
}
