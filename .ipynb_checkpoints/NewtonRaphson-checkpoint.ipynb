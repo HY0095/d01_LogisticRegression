{
 "cells": [
  {
   "cell_type": "code",
   "execution_count": 1,
   "metadata": {
    "collapsed": true
   },
   "outputs": [],
   "source": [
    "from __future__ import print_function\n",
    "import numpy as np\n",
    "import statsmodels.api as sm\n",
    "import scipy.stats as stats\n",
    "import pandas as pd\n",
    "import matplotlib.pyplot as plt\n",
    "from IPython.display import SVG, HTML\n",
    "import copy as copy"
   ]
  },
  {
   "cell_type": "code",
   "execution_count": 2,
   "metadata": {
    "collapsed": false
   },
   "outputs": [],
   "source": [
    "data  = pd.read_csv('/home/dzn/Project/d05_scorecard/d01_LogisticRegression/data/x.csv', sep = ',')"
   ]
  },
  {
   "cell_type": "code",
   "execution_count": 3,
   "metadata": {
    "collapsed": false,
    "scrolled": true
   },
   "outputs": [
    {
     "data": {
      "text/html": [
       "<div>\n",
       "<table border=\"1\" class=\"dataframe\">\n",
       "  <thead>\n",
       "    <tr style=\"text-align: right;\">\n",
       "      <th></th>\n",
       "      <th>cell</th>\n",
       "      <th>smear</th>\n",
       "      <th>infil</th>\n",
       "      <th>li</th>\n",
       "      <th>blast</th>\n",
       "      <th>temp</th>\n",
       "      <th>y</th>\n",
       "    </tr>\n",
       "  </thead>\n",
       "  <tbody>\n",
       "    <tr>\n",
       "      <th>0</th>\n",
       "      <td>0.8</td>\n",
       "      <td>0.83</td>\n",
       "      <td>0.66</td>\n",
       "      <td>1.9</td>\n",
       "      <td>1.10</td>\n",
       "      <td>0.996</td>\n",
       "      <td>1</td>\n",
       "    </tr>\n",
       "    <tr>\n",
       "      <th>1</th>\n",
       "      <td>0.9</td>\n",
       "      <td>0.36</td>\n",
       "      <td>0.32</td>\n",
       "      <td>1.4</td>\n",
       "      <td>0.74</td>\n",
       "      <td>0.992</td>\n",
       "      <td>1</td>\n",
       "    </tr>\n",
       "  </tbody>\n",
       "</table>\n",
       "</div>"
      ],
      "text/plain": [
       "   cell  smear  infil   li  blast   temp  y\n",
       "0   0.8   0.83   0.66  1.9   1.10  0.996  1\n",
       "1   0.9   0.36   0.32  1.4   0.74  0.992  1"
      ]
     },
     "execution_count": 3,
     "metadata": {},
     "output_type": "execute_result"
    }
   ],
   "source": [
    "data.head(2)"
   ]
  },
  {
   "cell_type": "code",
   "execution_count": 4,
   "metadata": {
    "collapsed": false
   },
   "outputs": [],
   "source": [
    "datanames = data.columns\n",
    "role      = [1,1,1,1,1,1,2]\n",
    "[n,p] = data.shape\n"
   ]
  },
  {
   "cell_type": "code",
   "execution_count": 54,
   "metadata": {
    "collapsed": false
   },
   "outputs": [],
   "source": [
    "class ModelInfo(object):\n",
    "    def __init__(self, data, role, **kwargs):\n",
    "        self.data = sm.add_constant(data)\n",
    "        self.role = role\n",
    "        self.maxiter = 25   # default maxiter\n",
    "        self.mindiff = 1e-8 # default mindiff\n",
    "        self.method  = 'None'\n",
    "        self.slentry = 0.05  # default\n",
    "        self.slstay  = 0.05  # default\n",
    "        self.cont    = True  # default self.cont = True, include intercept in model        \n",
    "        if 'slentry' in kwargs.keys():\n",
    "            self.slentry = float(kwargs['slentry'])\n",
    "        if 'slstay' in kwargs.keys():\n",
    "            self.slstay = float(kwargs['slstay'])\n",
    "        if 'method' in kwargs.keys():\n",
    "            self.method = kwargs['method']\n",
    "        if 'maxiter' in kwargs.keys():\n",
    "            self.maxiter = kwargs['maxiter']\n",
    "        if 'mindiff' in kwargs.keys():\n",
    "            self.mindiff = kwargs['mindiff'] \n",
    "    def xcol(self):\n",
    "        #print(self.role)\n",
    "        #print(self.data.columns)\n",
    "        xcols = ['const']+[self.data.columns[i+1] for i, col in enumerate(self.role) if col == 1]\n",
    "        return xcols\n",
    "    def ycol(self):\n",
    "        ycols = [self.data.columns[i+1] for i, col in enumerate(self.role) if col == 2]\n",
    "        return ycols\n",
    "    def weight(self):\n",
    "        _weight_ = [self.data.columns[i+1] for i, col in enumerate(self.role) if col == 3]\n",
    "        return _weight_\n",
    "    def handledata(self, name):\n",
    "        data = []\n",
    "        for col in name:\n",
    "            data.append(self.data[col])\n",
    "        return np.array(data)\n",
    "    def xdata(self):\n",
    "        data = self.handledata(self.xcol())\n",
    "        return data\n",
    "    def ydata(self):\n",
    "        data = self.handledata(self.ycol())\n",
    "        return data\n",
    "    def _weight(self):\n",
    "        if 3 in self.role:\n",
    "            data = self.data[self.weight()]\n",
    "        else :\n",
    "            data = np.ones(self.data.shape[0])\n",
    "        return data"
   ]
  },
  {
   "cell_type": "code",
   "execution_count": 6,
   "metadata": {
    "collapsed": false
   },
   "outputs": [],
   "source": [
    "rawdata = ModelInfo(data, role)\n",
    "#rawdata.xdata()[0]\n",
    "#rawdata.ydata()\n",
    "a = rawdata.data['const']\n",
    "b = rawdata.data['li']\n",
    "#del a['const']\n",
    "#aa = rawdata.data\n",
    "#aa.shape\n",
    "#rawdata.method"
   ]
  },
  {
   "cell_type": "code",
   "execution_count": 7,
   "metadata": {
    "collapsed": false
   },
   "outputs": [],
   "source": [
    "c = np.vstack((a,b))"
   ]
  },
  {
   "cell_type": "code",
   "execution_count": 5,
   "metadata": {
    "collapsed": false
   },
   "outputs": [],
   "source": [
    "def LRStats(step,n,p,res):\n",
    "    Dict = {}\n",
    "    _tmpdict_ = {}\n",
    "    _tmpdict_['AIC'] = res.aic     # AIC\n",
    "    _tmpdict_['BIC'] = res.bic     # BIC\n",
    "    _tmpdict_['-2Logl'] = -2*res.llf  # -2Logl\n",
    "    _tmpdict_['SC'] = 2*(-res.llf + p*(np.log(n)))#SC)\n",
    "    _tmpdict_['params'] = res.params     # Parameters Estimates\n",
    "    _tmpdict_['std_error'] = res.bse     # Std_error\n",
    "    _tmpdict_['Chi-square'] = 2*stats.norm.cdf(-np.abs((res.params/res.bse)))  #Wald Chi-Square\n",
    "    #_tmpdict_['prob'] = 2*stats.norm.cdf(-np.abs((res.params[0]/res.bse[0])))  #Wald Chi-Square\n",
    "    Dict[step] = _tmpdict_\n",
    "    return Dict"
   ]
  },
  {
   "cell_type": "code",
   "execution_count": 6,
   "metadata": {
    "collapsed": false
   },
   "outputs": [],
   "source": [
    "class LRStats(object):\n",
    "    def __init__(self, step, n, p, res):\n",
    "        self.aic  = res.aic\n",
    "        self.bic  = res.bic\n",
    "        self.logl = -2*res.llf\n",
    "        self.sc   = 2*(-res.llf + p*(np.log(n)))\n",
    "        self.params = res.params\n",
    "        self.wald_chi = (res.params/res.bse)**2 \n",
    "        self.std_error = res.bse\n",
    "        self.pchi2 = 2*stats.norm.cdf(-np.abs((res.params/res.bse)))\n",
    "    def resprint(self):\n",
    "        print(\"                          Model Fit Statistics \")\n",
    "        print(\"==============================================================================\")\n",
    "        print(\"AIC                   %s           BIC           %s    \" % (self.aic, self.bic))\n",
    "        print(\"-2Logl                %s           SC            %s    \" % (self.logl, self.sc))\n",
    "        print(\"==============================================================================\")\n"
   ]
  },
  {
   "cell_type": "code",
   "execution_count": 7,
   "metadata": {
    "collapsed": true
   },
   "outputs": [],
   "source": [
    "class checkio(object):\n",
    "    def __init__(self,xwait,score,pvalue):\n",
    "        self.xwait = xwait\n",
    "        self.score = score\n",
    "        self.pvalue= pvalue\n",
    "    def enter(self):\n",
    "        print(\"              Analysis of Variables Eligible for Entry  \")\n",
    "        print(\"==============================================================================\")\n",
    "        print(\"\\t%5s\\t \\t%5s\\t \\t%5s\\t\" % (\"variable\", \"Wald Chi-square\", \"Pr>ChiSq\"))\n",
    "        for i,v in enumerate(self.xwait):\n",
    "            print(\"    \\t%5s\\t             \\t%10s\\t     \\t%10s\\t\" % (v, self.score[i], self.pvalue[i]))\n",
    "        print(\" \") \n",
    "    def remove(self):\n",
    "        print(\"              Analysis of Variables Eligible for Remove  \")\n",
    "        print(\"==============================================================================\")\n",
    "        print(\"\\t%5s\\t \\t%5s\\t \\t%5s\\t\" % (\"variable\", \"Wald Chi-square\", \"Pr>ChiSq\"))\n",
    "        for i,v in enumerate(self.xwait):\n",
    "            print(\"    \\t%5s\\t             \\t%10s\\t     \\t%10s\\t\" % (v, self.score[i], self.pvalue[i]))\n",
    "        print(\" \") "
   ]
  },
  {
   "cell_type": "code",
   "execution_count": 39,
   "metadata": {
    "collapsed": false
   },
   "outputs": [],
   "source": [
    "class GlobalNullTest(object):\n",
    "    def __init__(self,x,y,beta):\n",
    "        self.x  = x\n",
    "        self.p  = (x.shape[1] - 1)\n",
    "        self.y  = y\n",
    "        self.betai = pd.DataFrame(beta+[0.])\n",
    "    def score(self):\n",
    "        pi_value = 1/(1+np.exp(-1*np.dot(self.x, self.betai)))\n",
    "        u = np.dot( self.x.T, self.y-pi_value)\n",
    "        h = np.dot(np.dot(self.x.T, np.eye(len(self.y))*pi_value*(1-pi_value)), self.x)\n",
    "        score = np.dot(np.dot(u.T,np.linalg.inv(h)), u)\n",
    "        return list(score[0])\n",
    "    def pvalue(self):\n",
    "        pvalue = stats.chisqprob(self.score(), 1)\n",
    "        return list(pvalue)"
   ]
  },
  {
   "cell_type": "code",
   "execution_count": 278,
   "metadata": {
    "collapsed": false
   },
   "outputs": [],
   "source": [
    "x    = sm.add_constant(data.li.values, prepend = True)\n",
    "y    = np.array([[i] for i in data.y])\n",
    "beta = [-0.6931472]"
   ]
  },
  {
   "cell_type": "code",
   "execution_count": 279,
   "metadata": {
    "collapsed": false
   },
   "outputs": [
    {
     "data": {
      "text/plain": [
       "[7.9310962628244619]"
      ]
     },
     "execution_count": 279,
     "metadata": {},
     "output_type": "execute_result"
    }
   ],
   "source": [
    "c = GlobalNullTest(x,y,beta)\n",
    "\n",
    "c.score()"
   ]
  },
  {
   "cell_type": "code",
   "execution_count": 280,
   "metadata": {
    "collapsed": false
   },
   "outputs": [
    {
     "data": {
      "text/plain": [
       "[0.004859234758660529]"
      ]
     },
     "execution_count": 280,
     "metadata": {},
     "output_type": "execute_result"
    }
   ],
   "source": [
    "c.pvalue()"
   ]
  },
  {
   "cell_type": "code",
   "execution_count": null,
   "metadata": {
    "collapsed": false
   },
   "outputs": [],
   "source": [
    "class StepwiseModel(ModelInfo):\n",
    "    def __init__(self, data, role, **kwargs):\n",
    "        super(StepwiseModel, self).__init__(data, role, **kwargs)\n",
    "        super(StepwiseModel, self).xcol()\n",
    "        super(StepwiseModel, self).ydata()\n",
    "    def logitreg(self):\n",
    "        n    = self.data.shape[0]\n",
    "        p    = self.data.shape[1]\n",
    "        y    = pd.DataFrame(self.ydata()[0], columns = ['y'])\n",
    "        xcol = self.xcol()\n",
    "        #xin  = np.ones(p)\n",
    "        #xout = np.zeros(p)\n",
    "        xenter= ['const']\n",
    "        xwait = copy.copy(xcol)\n",
    "        xwait.remove('const')\n",
    "        #xout   = [] \n",
    "        step   = 0\n",
    "        history = {}\n",
    "        print(\"**** The LogitReg Process ****\\n\")\n",
    "        print(\"** Step 0. Intercept entered:\\n\")\n",
    "        logit_mod = sm.Logit(self.ydata()[0],self.xdata()[0])\n",
    "        logit_res = logit_mod.fit(disp=0)\n",
    "        Beta0     = list(logit_res.params)\n",
    "        print(logit_res.summary())\n",
    "        history = LRStats(step,n,1,logit_res)\n",
    "        print(\" \")\n",
    "        history.resprint()\n",
    "        newx   = self.data['const']\n",
    "        for i in np.arange(p):\n",
    "            print(\"   \")\n",
    "            score  = []\n",
    "            pvalue = []\n",
    "            rb     = 0\n",
    "            logit_res = {}\n",
    "            history   = {}\n",
    "            for xname in xwait:\n",
    "                _tmpx = np.vstack((newx, self.data[xname]))\n",
    "                _tmpxenter = xenter+[xname]\n",
    "                _tmpx = pd.DataFrame(_tmpx.T, columns = _tmpxenter)\n",
    "                logit_mod = sm.Logit(y,_tmpx)\n",
    "                _logit_res = logit_mod.fit(disp=0)\n",
    "                logit_res[xname] = _logit_res\n",
    "                _history = LRStats(step,n,1,_logit_res)\n",
    "                history[xname]   = _history\n",
    "                nulltest = GlobalNullTest(_tmpx, y, Beta0)\n",
    "                score  = score + list(nulltest.score())\n",
    "                pvalue = pvalue + list(nulltest.pvalue())\n",
    "                #xin += 1\n",
    "            checkenter = checkio(xwait, score, pvalue)\n",
    "            checkenter.enter()\n",
    "            if (min(pvalue) <= self.slentry):\n",
    "                # Update newx and xenter\n",
    "                xin = [xwait[ii] for ii,pv in enumerate(pvalue) if pv == min(pvalue)][0]\n",
    "                xenter = xenter+[xin]\n",
    "                newx = np.vstack((newx, self.data[xin]))\n",
    "                newx = pd.DataFrame(newx.T, columns = xenter)                \n",
    "                xwait.remove(xin)\n",
    "                step += 1\n",
    "                print(\"** step %s: %s entered:\\n\"%(step,xin))\n",
    "                print(logit_res[xin].summary())\n",
    "                Beta0     = list(logit_res[xin].params)\n",
    "                history[xin].resprint()\n",
    "                pouttest    = history[xin].pchi2[1:]\n",
    "                waldouttest = history[xin].wald_chi[1:]\n",
    "                xouttest    = xenter[1:]\n",
    "                checkout    = checkio(xouttest, waldouttest, pouttest)\n",
    "                checkout.remove()\n",
    "                while 1:\n",
    "                    if (max(pouttest) <= self.slstay):\n",
    "                        print(\"         No (additional) Variables met the %s significance level for remove into the model\"%(self.slstay))\n",
    "                        break\n",
    "                    else :\n",
    "                        _slrindex = list(pouttest).index(max(pouttest))\n",
    "                        xout = xouttest[_slrindex]\n",
    "                        step += 1\n",
    "                        print(\"step %s: %s removed:\\n\"%(step, xout))\n",
    "                        # Update newx and xenter\n",
    "                        #print(xenter)\n",
    "                        #print(newx)\n",
    "                        del newx[xout]\n",
    "                        xenter.remove(xout)\n",
    "                        #xwait.remove(xout)\n",
    "                        logit_mod = sm.Logit(y,newx)\n",
    "                        _logit_res= logit_mod.fit(disp=0)\n",
    "                        Beta0     = list(_logit_res.params)\n",
    "                        _logit_res.summary()\n",
    "                        _history  = LRStats(step,n,1,_logit_res)\n",
    "                        _history.resprint()\n",
    "                        pouttest  = _history.pchi2[1:]\n",
    "                        waldouttest= _history.wald_chi[1:]\n",
    "                        xouttest   = xenter[1:]\n",
    "                        checkout   = checkio(xouttest, waldouttest, pouttest)\n",
    "                        checkout.remove()\n",
    "                        ij = 0\n",
    "                        if (xin == xout and ij == 0):\n",
    "                            print(\"Model building terminates because the last effect entered is removed by the Wald statistic criterion\")\n",
    "                            rb = 1\n",
    "                            break\n",
    "                        else :\n",
    "                            ij += 1\n",
    "                            rb = 2\n",
    "            else :\n",
    "                print(\"    No (additional) Variables met the %s significance level for entry into the model\"%(self.slentry))\n",
    "                break\n",
    "            if rb == 1:\n",
    "                break\n",
    "            newx = newx.T\n",
    "            i += 1\n",
    "        result = {}\n",
    "        for iii, b in enumerate(Beta0):\n",
    "            result[xenter[iii]] = b\n",
    "        return result\n",
    "    def beta(self):\n",
    "        _beta = self.logitreg()\n",
    "        return _beta\n",
    "\n"
   ]
  },
  {
   "cell_type": "code",
   "execution_count": null,
   "metadata": {
    "collapsed": false,
    "scrolled": false
   },
   "outputs": [],
   "source": [
    "a = StepwiseModel(data, role, slentry=0.3, slstay=0.35)\n",
    "a.beta()\n"
   ]
  },
  {
   "cell_type": "code",
   "execution_count": null,
   "metadata": {
    "collapsed": true
   },
   "outputs": [],
   "source": []
  }
 ],
 "metadata": {
  "kernelspec": {
   "display_name": "Python 2",
   "language": "python",
   "name": "python2"
  },
  "language_info": {
   "codemirror_mode": {
    "name": "ipython",
    "version": 2
   },
   "file_extension": ".py",
   "mimetype": "text/x-python",
   "name": "python",
   "nbconvert_exporter": "python",
   "pygments_lexer": "ipython2",
   "version": "2.7.9"
  }
 },
 "nbformat": 4,
 "nbformat_minor": 0
}
